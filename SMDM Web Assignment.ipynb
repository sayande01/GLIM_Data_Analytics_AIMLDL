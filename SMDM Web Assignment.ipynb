{
 "cells": [
  {
   "cell_type": "markdown",
   "id": "95877c4c",
   "metadata": {},
   "source": [
    "# SMDM Web Assignment"
   ]
  },
  {
   "cell_type": "code",
   "execution_count": 2,
   "id": "57a0628f",
   "metadata": {},
   "outputs": [],
   "source": [
    "#Importing libraries\n",
    "import pandas as pd\n",
    "import numpy as np\n",
    "import seaborn as sns\n",
    "import matplotlib.pyplot as plt\n",
    "import plotly.express as px\n",
    "import datetime\n",
    "import warnings\n",
    "warnings.filterwarnings(\"ignore\")"
   ]
  },
  {
   "cell_type": "code",
   "execution_count": 4,
   "id": "7739426b",
   "metadata": {},
   "outputs": [],
   "source": [
    "df = pd.read_excel('FuelData2018.xlsx')"
   ]
  },
  {
   "cell_type": "code",
   "execution_count": 5,
   "id": "6bb7dd2e",
   "metadata": {},
   "outputs": [
    {
     "data": {
      "text/html": [
       "<div>\n",
       "<style scoped>\n",
       "    .dataframe tbody tr th:only-of-type {\n",
       "        vertical-align: middle;\n",
       "    }\n",
       "\n",
       "    .dataframe tbody tr th {\n",
       "        vertical-align: top;\n",
       "    }\n",
       "\n",
       "    .dataframe thead th {\n",
       "        text-align: right;\n",
       "    }\n",
       "</style>\n",
       "<table border=\"1\" class=\"dataframe\">\n",
       "  <thead>\n",
       "    <tr style=\"text-align: right;\">\n",
       "      <th></th>\n",
       "      <th>Car</th>\n",
       "      <th>Size</th>\n",
       "      <th>Displacement</th>\n",
       "      <th>Cylinders</th>\n",
       "      <th>Drive</th>\n",
       "      <th>Fuel Type</th>\n",
       "      <th>City MPG</th>\n",
       "      <th>Hwy MPG</th>\n",
       "    </tr>\n",
       "  </thead>\n",
       "  <tbody>\n",
       "    <tr>\n",
       "      <th>0</th>\n",
       "      <td>1</td>\n",
       "      <td>Compact</td>\n",
       "      <td>1.4</td>\n",
       "      <td>4</td>\n",
       "      <td>F</td>\n",
       "      <td>R</td>\n",
       "      <td>27</td>\n",
       "      <td>40</td>\n",
       "    </tr>\n",
       "    <tr>\n",
       "      <th>1</th>\n",
       "      <td>2</td>\n",
       "      <td>Compact</td>\n",
       "      <td>1.4</td>\n",
       "      <td>4</td>\n",
       "      <td>F</td>\n",
       "      <td>R</td>\n",
       "      <td>27</td>\n",
       "      <td>35</td>\n",
       "    </tr>\n",
       "    <tr>\n",
       "      <th>2</th>\n",
       "      <td>3</td>\n",
       "      <td>Compact</td>\n",
       "      <td>1.4</td>\n",
       "      <td>4</td>\n",
       "      <td>F</td>\n",
       "      <td>R</td>\n",
       "      <td>28</td>\n",
       "      <td>38</td>\n",
       "    </tr>\n",
       "    <tr>\n",
       "      <th>3</th>\n",
       "      <td>4</td>\n",
       "      <td>Compact</td>\n",
       "      <td>1.4</td>\n",
       "      <td>4</td>\n",
       "      <td>F</td>\n",
       "      <td>R</td>\n",
       "      <td>28</td>\n",
       "      <td>40</td>\n",
       "    </tr>\n",
       "    <tr>\n",
       "      <th>4</th>\n",
       "      <td>5</td>\n",
       "      <td>Compact</td>\n",
       "      <td>1.4</td>\n",
       "      <td>4</td>\n",
       "      <td>F</td>\n",
       "      <td>R</td>\n",
       "      <td>28</td>\n",
       "      <td>37</td>\n",
       "    </tr>\n",
       "  </tbody>\n",
       "</table>\n",
       "</div>"
      ],
      "text/plain": [
       "   Car     Size  Displacement  Cylinders Drive Fuel Type  City MPG  Hwy MPG\n",
       "0    1  Compact           1.4          4     F         R        27       40\n",
       "1    2  Compact           1.4          4     F         R        27       35\n",
       "2    3  Compact           1.4          4     F         R        28       38\n",
       "3    4  Compact           1.4          4     F         R        28       40\n",
       "4    5  Compact           1.4          4     F         R        28       37"
      ]
     },
     "execution_count": 5,
     "metadata": {},
     "output_type": "execute_result"
    }
   ],
   "source": [
    "df.head()"
   ]
  },
  {
   "cell_type": "code",
   "execution_count": 6,
   "id": "d482406f",
   "metadata": {},
   "outputs": [
    {
     "data": {
      "text/plain": [
       "(341, 8)"
      ]
     },
     "execution_count": 6,
     "metadata": {},
     "output_type": "execute_result"
    }
   ],
   "source": [
    "df.shape"
   ]
  },
  {
   "cell_type": "code",
   "execution_count": 7,
   "id": "82e0bffa",
   "metadata": {},
   "outputs": [
    {
     "data": {
      "text/plain": [
       "Index(['Car', 'Size', 'Displacement', 'Cylinders', 'Drive', 'Fuel Type',\n",
       "       'City MPG', 'Hwy MPG'],\n",
       "      dtype='object')"
      ]
     },
     "execution_count": 7,
     "metadata": {},
     "output_type": "execute_result"
    }
   ],
   "source": [
    "df.columns"
   ]
  },
  {
   "cell_type": "code",
   "execution_count": 8,
   "id": "5e5cd3c2",
   "metadata": {},
   "outputs": [
    {
     "name": "stdout",
     "output_type": "stream",
     "text": [
      "Hwy MPG Bin  20-24  25-29  30-34  35-39  40-44\n",
      "Size                                          \n",
      "Compact          7     22     47     35     11\n",
      "Large            6     28     23     14      1\n",
      "Midsize          8     30     65     35      9\n"
     ]
    }
   ],
   "source": [
    "# Define bins for Hwy MPG\n",
    "bins = [20, 24, 29, 34, 39, 44]\n",
    "labels = ['20-24', '25-29', '30-34', '35-39', '40-44']\n",
    "\n",
    "# Bin the 'Hwy MPG' values\n",
    "df['Hwy MPG Bin'] = pd.cut(df['Hwy MPG'], bins=bins, labels=labels, right=False)\n",
    "\n",
    "# Create the crosstabulation\n",
    "crosstab = pd.crosstab(df['Size'], df['Hwy MPG Bin'])\n",
    "\n",
    "print(crosstab)"
   ]
  },
  {
   "cell_type": "code",
   "execution_count": 10,
   "id": "a3cf029a",
   "metadata": {},
   "outputs": [
    {
     "name": "stdout",
     "output_type": "stream",
     "text": [
      "City MPG Bin  10-14  15-19  20-24  25-29  30-34\n",
      "Drive                                          \n",
      "A                 1     31     67      9      0\n",
      "F                 0      5     41     79     29\n",
      "R                 6     28     34     10      1\n"
     ]
    }
   ],
   "source": [
    "# Define bins for City MPG\n",
    "bins = [10, 14, 19, 24, 29, 34]\n",
    "labels = ['10-14', '15-19', '20-24', '25-29', '30-34']\n",
    "\n",
    "# Bin the 'City MPG' values\n",
    "df['City MPG Bin'] = pd.cut(df['City MPG'], bins=bins, labels=labels, right=False)\n",
    "\n",
    "# Create the crosstabulation\n",
    "crosstab = pd.crosstab(df['Drive'], df['City MPG Bin'])\n",
    "\n",
    "print(crosstab)"
   ]
  },
  {
   "cell_type": "code",
   "execution_count": 14,
   "id": "656e036f",
   "metadata": {},
   "outputs": [
    {
     "data": {
      "text/html": [
       "<div>\n",
       "<style scoped>\n",
       "    .dataframe tbody tr th:only-of-type {\n",
       "        vertical-align: middle;\n",
       "    }\n",
       "\n",
       "    .dataframe tbody tr th {\n",
       "        vertical-align: top;\n",
       "    }\n",
       "\n",
       "    .dataframe thead th {\n",
       "        text-align: right;\n",
       "    }\n",
       "</style>\n",
       "<table border=\"1\" class=\"dataframe\">\n",
       "  <thead>\n",
       "    <tr style=\"text-align: right;\">\n",
       "      <th></th>\n",
       "      <th>Car</th>\n",
       "      <th>Size</th>\n",
       "      <th>Displacement</th>\n",
       "      <th>Cylinders</th>\n",
       "      <th>Drive</th>\n",
       "      <th>Fuel Type</th>\n",
       "      <th>City MPG</th>\n",
       "      <th>Hwy MPG</th>\n",
       "      <th>Hwy MPG Bin</th>\n",
       "      <th>City MPG Bin</th>\n",
       "    </tr>\n",
       "  </thead>\n",
       "  <tbody>\n",
       "    <tr>\n",
       "      <th>307</th>\n",
       "      <td>308</td>\n",
       "      <td>Midsize</td>\n",
       "      <td>4.0</td>\n",
       "      <td>8</td>\n",
       "      <td>A</td>\n",
       "      <td>P</td>\n",
       "      <td>14</td>\n",
       "      <td>24</td>\n",
       "      <td>25-29</td>\n",
       "      <td>15-19</td>\n",
       "    </tr>\n",
       "    <tr>\n",
       "      <th>308</th>\n",
       "      <td>309</td>\n",
       "      <td>Midsize</td>\n",
       "      <td>4.0</td>\n",
       "      <td>8</td>\n",
       "      <td>A</td>\n",
       "      <td>P</td>\n",
       "      <td>14</td>\n",
       "      <td>24</td>\n",
       "      <td>25-29</td>\n",
       "      <td>15-19</td>\n",
       "    </tr>\n",
       "    <tr>\n",
       "      <th>340</th>\n",
       "      <td>341</td>\n",
       "      <td>Large</td>\n",
       "      <td>6.6</td>\n",
       "      <td>12</td>\n",
       "      <td>A</td>\n",
       "      <td>P</td>\n",
       "      <td>13</td>\n",
       "      <td>20</td>\n",
       "      <td>20-24</td>\n",
       "      <td>10-14</td>\n",
       "    </tr>\n",
       "  </tbody>\n",
       "</table>\n",
       "</div>"
      ],
      "text/plain": [
       "     Car     Size  Displacement  Cylinders Drive Fuel Type  City MPG  Hwy MPG  \\\n",
       "307  308  Midsize           4.0          8     A         P        14       24   \n",
       "308  309  Midsize           4.0          8     A         P        14       24   \n",
       "340  341    Large           6.6         12     A         P        13       20   \n",
       "\n",
       "    Hwy MPG Bin City MPG Bin  \n",
       "307       25-29        15-19  \n",
       "308       25-29        15-19  \n",
       "340       20-24        10-14  "
      ]
     },
     "execution_count": 14,
     "metadata": {},
     "output_type": "execute_result"
    }
   ],
   "source": [
    "df[(df['City MPG']<15) & (df['Drive'] == 'A')]"
   ]
  },
  {
   "cell_type": "code",
   "execution_count": 22,
   "id": "4a7c4f25",
   "metadata": {},
   "outputs": [],
   "source": [
    "ar = np.array([7,1,5,3,8,3,1,3,2,3,5,2,3,4,1,1,6,7,3,1])"
   ]
  },
  {
   "cell_type": "code",
   "execution_count": 31,
   "id": "ac39a1b8",
   "metadata": {},
   "outputs": [],
   "source": [
    "list_a = [7,1,5,3,8,3,1,3,2,3,5,2,3,4,1,1,6,7,3,1]"
   ]
  },
  {
   "cell_type": "code",
   "execution_count": 32,
   "id": "4254553d",
   "metadata": {},
   "outputs": [],
   "source": [
    "df = pd.DataFrame(list_a)"
   ]
  },
  {
   "cell_type": "code",
   "execution_count": 34,
   "id": "a7685ddf",
   "metadata": {},
   "outputs": [
    {
     "data": {
      "text/plain": [
       "0    3.0\n",
       "dtype: float64"
      ]
     },
     "execution_count": 34,
     "metadata": {},
     "output_type": "execute_result"
    }
   ],
   "source": [
    "df.median()"
   ]
  },
  {
   "cell_type": "code",
   "execution_count": 35,
   "id": "4eacfeb3",
   "metadata": {},
   "outputs": [
    {
     "data": {
      "text/plain": [
       "<Axes: >"
      ]
     },
     "execution_count": 35,
     "metadata": {},
     "output_type": "execute_result"
    },
    {
     "data": {
      "image/png": "[encoded data removed]",
      "text/plain": [
       "<Figure size 640x480 with 1 Axes>"
      ]
     },
     "metadata": {},
     "output_type": "display_data"
    }
   ],
   "source": [
    "sns.boxplot(df)"
   ]
  },
  {
   "cell_type": "code",
   "execution_count": 36,
   "id": "1d82a2c9",
   "metadata": {},
   "outputs": [
    {
     "data": {
      "text/plain": [
       "0    2.21181\n",
       "dtype: float64"
      ]
     },
     "execution_count": 36,
     "metadata": {},
     "output_type": "execute_result"
    }
   ],
   "source": [
    "df.std()"
   ]
  },
  {
   "cell_type": "code",
   "execution_count": 37,
   "id": "3bcd6529",
   "metadata": {},
   "outputs": [
    {
     "data": {
      "text/plain": [
       "0    4.892105\n",
       "dtype: float64"
      ]
     },
     "execution_count": 37,
     "metadata": {},
     "output_type": "execute_result"
    }
   ],
   "source": [
    "df.var()"
   ]
  },
  {
   "cell_type": "code",
   "execution_count": null,
   "id": "91286b30",
   "metadata": {},
   "outputs": [],
   "source": []
  }
 ],
 "metadata": {
  "kernelspec": {
   "display_name": "Python 3 (ipykernel)",
   "language": "python",
   "name": "python3"
  },
  "language_info": {
   "codemirror_mode": {
    "name": "ipython",
    "version": 3
   },
   "file_extension": ".py",
   "mimetype": "text/x-python",
   "name": "python",
   "nbconvert_exporter": "python",
   "pygments_lexer": "ipython3",
   "version": "3.11.7"
  }
 },
 "nbformat": 4,
 "nbformat_minor": 5
}
